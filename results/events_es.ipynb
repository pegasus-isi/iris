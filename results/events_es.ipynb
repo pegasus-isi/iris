{
  "nbformat": 4,
  "nbformat_minor": 0,
  "metadata": {
    "colab": {
      "name": "events_es.ipynb",
      "version": "0.3.2",
      "provenance": []
    },
    "kernelspec": {
      "name": "python3",
      "display_name": "Python 3"
    }
  },
  "cells": [
    {
      "cell_type": "code",
      "metadata": {
        "id": "hQaNjveMzQIz",
        "colab_type": "code",
        "outputId": "d5aadec5-1de8-4441-ea2f-eca6294c0a46",
        "colab": {
          "base_uri": "https://localhost:8080/",
          "height": 33
        }
      },
      "source": [
        "import pandas as pd\n",
        "from google.colab import drive\n",
        "# Import label encoder \n",
        "from sklearn import preprocessing \n",
        "  \n",
        "# label_encoder object knows how to understand word labels. \n",
        "label_encoder = preprocessing.LabelEncoder() \n",
        "\n",
        "drive.mount(\"/content/drive\",force_remount=True)\n",
        "csv_file =  '/content/drive/My Drive/Colab Notebooks/ISI/events.csv'\n",
        "df = pd.read_csv(csv_file)\n"
      ],
      "execution_count": 3,
      "outputs": [
        {
          "output_type": "stream",
          "text": [
            "Mounted at /content/drive\n"
          ],
          "name": "stdout"
        }
      ]
    },
    {
      "cell_type": "code",
      "metadata": {
        "id": "zNE010__CGAl",
        "colab_type": "code",
        "outputId": "65fb2dd3-0552-47b2-b02e-b5b0b6d120e0",
        "colab": {
          "base_uri": "https://localhost:8080/",
          "height": 167
        }
      },
      "source": [
        "#Counting total integrity errors that occurred in the data\n",
        "integrity_err_count = df['checksum__failure'].sum()\n",
        "print(\"Total integrity errors \",integrity_err_count)\n",
        "print(df.columns)"
      ],
      "execution_count": 4,
      "outputs": [
        {
          "output_type": "stream",
          "text": [
            "Total integrity errors  116\n",
            "Index(['@timestamp', 'end__time', 'executable', 'job__type', 'user__remote',\n",
            "       'execution__site', 'retry__attempt', '_type', 'local__dur',\n",
            "       'actual__checksum', 'start__time', 'execution__hostname', '_id',\n",
            "       'filename', 'expected__checksum', 'checksum__failure', '_index',\n",
            "       'source__proto__host', 'source__id', 'submit__hostname', 'user__submit',\n",
            "       'job__exitcode', 'origin_id', 'dest__proto__host', 'root_xwf__id',\n",
            "       'job__id'],\n",
            "      dtype='object')\n"
          ],
          "name": "stdout"
        }
      ]
    },
    {
      "cell_type": "code",
      "metadata": {
        "id": "h5VqHz49M-1J",
        "colab_type": "code",
        "outputId": "5dddc37a-2422-452d-850b-9464dc7fa783",
        "colab": {
          "base_uri": "https://localhost:8080/",
          "height": 234
        }
      },
      "source": [
        "#hosts where integrity error occurred mostly\n",
        "top_integrity_err_exec_host = df.groupby([\"execution__hostname\"])[\"checksum__failure\"].agg('mean').sort_values(ascending=False)#.filter(lambda x :x[\"checksum__failure\"]!=0)\n",
        "#top_integrity_err_exec_host =pd.DataFrame(index=top_integrity_err_exec_host.index,values=top_integrity_err_exec_host)\n",
        "top_integrity_err_exec_host"
      ],
      "execution_count": 5,
      "outputs": [
        {
          "output_type": "execute_result",
          "data": {
            "text/plain": [
              "execution__hostname\n",
              "workflow.isi.edu     0.044280\n",
              "compute-1.isi.edu    0.037559\n",
              "shrek.isi.edu        0.032454\n",
              "compute-3.isi.edu    0.029240\n",
              "compute-4.isi.edu    0.017391\n",
              "compute-7.isi.edu    0.015327\n",
              "compute-2.isi.edu    0.012422\n",
              "mimir.isi.edu        0.011765\n",
              "compute-6.isi.edu    0.009236\n",
              "compute-5.isi.edu    0.007463\n",
              "bamboo.isi.edu       0.000000\n",
              "Name: checksum__failure, dtype: float64"
            ]
          },
          "metadata": {
            "tags": []
          },
          "execution_count": 5
        }
      ]
    },
    {
      "cell_type": "code",
      "metadata": {
        "id": "5yO_pvQ3Nqvi",
        "colab_type": "code",
        "outputId": "6b617b00-51cc-4067-af52-3421a60fa419",
        "colab": {
          "base_uri": "https://localhost:8080/",
          "height": 364
        }
      },
      "source": [
        "top_integrity_err_exec_host.plot.bar()\n",
        "import matplotlib.pyplot as plt  \n",
        "# # plot between 2 attributes \n",
        "\n",
        "\n",
        "plt.xlabel(\"execution__hostname\") \n",
        "plt.ylabel(\"checksum_failure\") \n",
        "plt.legend()\n",
        "plt.show() "
      ],
      "execution_count": 6,
      "outputs": [
        {
          "output_type": "display_data",
          "data": {
            "image/png": "[encoded data removed]",
            "text/plain": [
              "<Figure size 432x288 with 1 Axes>"
            ]
          },
          "metadata": {
            "tags": []
          }
        }
      ]
    },
    {
      "cell_type": "code",
      "metadata": {
        "id": "TkXbuaqQrBiz",
        "colab_type": "code",
        "outputId": "15275a33-3887-4097-978a-32c4d516da92",
        "colab": {
          "base_uri": "https://localhost:8080/",
          "height": 280
        }
      },
      "source": [
        "\n",
        "#job types where integrity errors occurred\n",
        "top_integrity_err_jobtype = df.groupby([\"job__type\"])[\"checksum__failure\"].agg('mean').apply(lambda x:x/integrity_err_count).sort_values(ascending=False)#.filter(lambda x :x[\"checksum__failure\"]!=0)\n",
        "top_integrity_err_jobtype.plot.bar()\n",
        "import matplotlib.pyplot as plt  \n",
        "# # plot between 2 attributes \n",
        "\n",
        "\n",
        "plt.xlabel(\"job_type\") \n",
        "plt.ylabel(\"checksum_failure\") \n",
        "plt.legend()\n",
        "plt.show() "
      ],
      "execution_count": 7,
      "outputs": [
        {
          "output_type": "display_data",
          "data": {
            "image/png": "[encoded data removed]",
            "text/plain": [
              "<Figure size 432x288 with 1 Axes>"
            ]
          },
          "metadata": {
            "tags": []
          }
        }
      ]
    },
    {
      "cell_type": "code",
      "metadata": {
        "id": "DmcRGYjx0qh3",
        "colab_type": "code",
        "outputId": "8a5741d0-6fd1-400d-c300-efded0c78c54",
        "colab": {
          "base_uri": "https://localhost:8080/",
          "height": 334
        }
      },
      "source": [
        "#execution sites where integrity errors occurred\n",
        "top_integrity_err_jobtype = df.groupby([\"execution__site\"])[\"checksum__failure\"].agg('sum').apply(lambda x:x/integrity_err_count*100).sort_values(ascending=False)#.filter(lambda x :x[\"checksum__failure\"]!=0)\n",
        "top_integrity_err_jobtype.plot.bar()\n",
        "import matplotlib.pyplot as plt  \n",
        "# # plot between 2 attributes \n",
        "\n",
        "\n",
        "plt.xlabel(\"execution__site\") \n",
        "plt.ylabel(\"checksum_failure %\") \n",
        "plt.legend()\n",
        "plt.show() "
      ],
      "execution_count": 8,
      "outputs": [
        {
          "output_type": "display_data",
          "data": {
            "image/png": "[encoded data removed]",
            "text/plain": [
              "<Figure size 432x288 with 1 Axes>"
            ]
          },
          "metadata": {
            "tags": []
          }
        }
      ]
    },
    {
      "cell_type": "code",
      "metadata": {
        "id": "-tIoe0dkpyny",
        "colab_type": "code",
        "outputId": "7b1f7a9d-1447-48cb-dff1-8bc38b56b029",
        "colab": {
          "base_uri": "https://localhost:8080/",
          "height": 1895
        }
      },
      "source": [
        "top_integrity_err_root = df.groupby([\"filename\",\"actual__checksum\",\"execution__hostname\"])[\"checksum__failure\"].agg('sum').reset_index().sort_values(by = [\"checksum__failure\"],ascending = False)#.filter(lambda x :x[\"checksum__failure\"]!=0)\n",
        "top_integrity_err_root = top_integrity_err_root[top_integrity_err_root[\"checksum__failure\"]>0]\n",
        "top_integrity_err_root"
      ],
      "execution_count": 9,
      "outputs": [
        {
          "output_type": "execute_result",
          "data": {
            "text/html": [
              "<div>\n",
              "<style scoped>\n",
              "    .dataframe tbody tr th:only-of-type {\n",
              "        vertical-align: middle;\n",
              "    }\n",
              "\n",
              "    .dataframe tbody tr th {\n",
              "        vertical-align: top;\n",
              "    }\n",
              "\n",
              "    .dataframe thead th {\n",
              "        text-align: right;\n",
              "    }\n",
              "</style>\n",
              "<table border=\"1\" class=\"dataframe\">\n",
              "  <thead>\n",
              "    <tr style=\"text-align: right;\">\n",
              "      <th></th>\n",
              "      <th>filename</th>\n",
              "      <th>actual__checksum</th>\n",
              "      <th>execution__hostname</th>\n",
              "      <th>checksum__failure</th>\n",
              "    </tr>\n",
              "  </thead>\n",
              "  <tbody>\n",
              "    <tr>\n",
              "      <th>87</th>\n",
              "      <td>keg</td>\n",
              "      <td>c32f0fcafa766cd79f6d9aef720665322b921095f6aa45...</td>\n",
              "      <td>shrek.isi.edu</td>\n",
              "      <td>9</td>\n",
              "    </tr>\n",
              "    <tr>\n",
              "      <th>84</th>\n",
              "      <td>keg</td>\n",
              "      <td>c32f0fcafa766cd79f6d9aef720665322b921095f6aa45...</td>\n",
              "      <td>compute-6.isi.edu</td>\n",
              "      <td>8</td>\n",
              "    </tr>\n",
              "    <tr>\n",
              "      <th>85</th>\n",
              "      <td>keg</td>\n",
              "      <td>c32f0fcafa766cd79f6d9aef720665322b921095f6aa45...</td>\n",
              "      <td>compute-7.isi.edu</td>\n",
              "      <td>6</td>\n",
              "    </tr>\n",
              "    <tr>\n",
              "      <th>88</th>\n",
              "      <td>keg</td>\n",
              "      <td>c32f0fcafa766cd79f6d9aef720665322b921095f6aa45...</td>\n",
              "      <td>workflow.isi.edu</td>\n",
              "      <td>5</td>\n",
              "    </tr>\n",
              "    <tr>\n",
              "      <th>86</th>\n",
              "      <td>keg</td>\n",
              "      <td>c32f0fcafa766cd79f6d9aef720665322b921095f6aa45...</td>\n",
              "      <td>mimir.isi.edu</td>\n",
              "      <td>3</td>\n",
              "    </tr>\n",
              "    <tr>\n",
              "      <th>80</th>\n",
              "      <td>keg</td>\n",
              "      <td>c32f0fcafa766cd79f6d9aef720665322b921095f6aa45...</td>\n",
              "      <td>compute-1.isi.edu</td>\n",
              "      <td>2</td>\n",
              "    </tr>\n",
              "    <tr>\n",
              "      <th>55</th>\n",
              "      <td>1-46-2.data</td>\n",
              "      <td>eb3e4ece28d95cf2b2ef144f8f1996c92be7ea3993acf3...</td>\n",
              "      <td>compute-1.isi.edu</td>\n",
              "      <td>1</td>\n",
              "    </tr>\n",
              "    <tr>\n",
              "      <th>62</th>\n",
              "      <td>1-5-2.data</td>\n",
              "      <td>ffcb0561e1eea75000fdd79b736acd2cb7641d9cda783c...</td>\n",
              "      <td>compute-1.isi.edu</td>\n",
              "      <td>1</td>\n",
              "    </tr>\n",
              "    <tr>\n",
              "      <th>61</th>\n",
              "      <td>1-5-1.data</td>\n",
              "      <td>c1a276bb9a230d6580d29e0bdebab5895aa855761fc2da...</td>\n",
              "      <td>compute-6.isi.edu</td>\n",
              "      <td>1</td>\n",
              "    </tr>\n",
              "    <tr>\n",
              "      <th>60</th>\n",
              "      <td>1-49-2.data</td>\n",
              "      <td>ffcb0561e1eea75000fdd79b736acd2cb7641d9cda783c...</td>\n",
              "      <td>compute-7.isi.edu</td>\n",
              "      <td>1</td>\n",
              "    </tr>\n",
              "    <tr>\n",
              "      <th>59</th>\n",
              "      <td>1-49-2.data</td>\n",
              "      <td>eb3e4ece28d95cf2b2ef144f8f1996c92be7ea3993acf3...</td>\n",
              "      <td>compute-7.isi.edu</td>\n",
              "      <td>1</td>\n",
              "    </tr>\n",
              "    <tr>\n",
              "      <th>58</th>\n",
              "      <td>1-49-1.data</td>\n",
              "      <td>ffcb0561e1eea75000fdd79b736acd2cb7641d9cda783c...</td>\n",
              "      <td>shrek.isi.edu</td>\n",
              "      <td>1</td>\n",
              "    </tr>\n",
              "    <tr>\n",
              "      <th>57</th>\n",
              "      <td>1-48-2.data</td>\n",
              "      <td>5215c8c6a3456a2eb9dab15568c4de5177a8ebbd73fd1d...</td>\n",
              "      <td>compute-7.isi.edu</td>\n",
              "      <td>1</td>\n",
              "    </tr>\n",
              "    <tr>\n",
              "      <th>56</th>\n",
              "      <td>1-48-1.data</td>\n",
              "      <td>c1a276bb9a230d6580d29e0bdebab5895aa855761fc2da...</td>\n",
              "      <td>compute-7.isi.edu</td>\n",
              "      <td>1</td>\n",
              "    </tr>\n",
              "    <tr>\n",
              "      <th>52</th>\n",
              "      <td>1-45-2.data</td>\n",
              "      <td>f3ef8e530f6e9879927d322e1fc9902c4d1df2a0202b97...</td>\n",
              "      <td>compute-7.isi.edu</td>\n",
              "      <td>1</td>\n",
              "    </tr>\n",
              "    <tr>\n",
              "      <th>54</th>\n",
              "      <td>1-46-2.data</td>\n",
              "      <td>95244359b6f5ccc73617e588ce5999284a4bcf15276762...</td>\n",
              "      <td>compute-7.isi.edu</td>\n",
              "      <td>1</td>\n",
              "    </tr>\n",
              "    <tr>\n",
              "      <th>53</th>\n",
              "      <td>1-46-1.data</td>\n",
              "      <td>eb3e4ece28d95cf2b2ef144f8f1996c92be7ea3993acf3...</td>\n",
              "      <td>workflow.isi.edu</td>\n",
              "      <td>1</td>\n",
              "    </tr>\n",
              "    <tr>\n",
              "      <th>64</th>\n",
              "      <td>1-6-1.data</td>\n",
              "      <td>5215c8c6a3456a2eb9dab15568c4de5177a8ebbd73fd1d...</td>\n",
              "      <td>shrek.isi.edu</td>\n",
              "      <td>1</td>\n",
              "    </tr>\n",
              "    <tr>\n",
              "      <th>51</th>\n",
              "      <td>1-45-1.data</td>\n",
              "      <td>95244359b6f5ccc73617e588ce5999284a4bcf15276762...</td>\n",
              "      <td>compute-6.isi.edu</td>\n",
              "      <td>1</td>\n",
              "    </tr>\n",
              "    <tr>\n",
              "      <th>50</th>\n",
              "      <td>1-44-2.data</td>\n",
              "      <td>f3ef8e530f6e9879927d322e1fc9902c4d1df2a0202b97...</td>\n",
              "      <td>compute-7.isi.edu</td>\n",
              "      <td>1</td>\n",
              "    </tr>\n",
              "    <tr>\n",
              "      <th>49</th>\n",
              "      <td>1-44-1.data</td>\n",
              "      <td>ffcb0561e1eea75000fdd79b736acd2cb7641d9cda783c...</td>\n",
              "      <td>compute-7.isi.edu</td>\n",
              "      <td>1</td>\n",
              "    </tr>\n",
              "    <tr>\n",
              "      <th>48</th>\n",
              "      <td>1-44-1.data</td>\n",
              "      <td>f3ef8e530f6e9879927d322e1fc9902c4d1df2a0202b97...</td>\n",
              "      <td>compute-7.isi.edu</td>\n",
              "      <td>1</td>\n",
              "    </tr>\n",
              "    <tr>\n",
              "      <th>47</th>\n",
              "      <td>1-43-1.data</td>\n",
              "      <td>67ee7aa5ad8fcb9c28a58aececc8b4637c17ced53a2b01...</td>\n",
              "      <td>compute-6.isi.edu</td>\n",
              "      <td>1</td>\n",
              "    </tr>\n",
              "    <tr>\n",
              "      <th>63</th>\n",
              "      <td>1-6-1.data</td>\n",
              "      <td>5215c8c6a3456a2eb9dab15568c4de5177a8ebbd73fd1d...</td>\n",
              "      <td>compute-6.isi.edu</td>\n",
              "      <td>1</td>\n",
              "    </tr>\n",
              "    <tr>\n",
              "      <th>67</th>\n",
              "      <td>1-7-2.data</td>\n",
              "      <td>5215c8c6a3456a2eb9dab15568c4de5177a8ebbd73fd1d...</td>\n",
              "      <td>compute-7.isi.edu</td>\n",
              "      <td>1</td>\n",
              "    </tr>\n",
              "    <tr>\n",
              "      <th>65</th>\n",
              "      <td>1-7-1.data</td>\n",
              "      <td>95244359b6f5ccc73617e588ce5999284a4bcf15276762...</td>\n",
              "      <td>compute-6.isi.edu</td>\n",
              "      <td>1</td>\n",
              "    </tr>\n",
              "    <tr>\n",
              "      <th>75</th>\n",
              "      <td>2-3-1.data</td>\n",
              "      <td>f3ef8e530f6e9879927d322e1fc9902c4d1df2a0202b97...</td>\n",
              "      <td>workflow.isi.edu</td>\n",
              "      <td>1</td>\n",
              "    </tr>\n",
              "    <tr>\n",
              "      <th>83</th>\n",
              "      <td>keg</td>\n",
              "      <td>c32f0fcafa766cd79f6d9aef720665322b921095f6aa45...</td>\n",
              "      <td>compute-5.isi.edu</td>\n",
              "      <td>1</td>\n",
              "    </tr>\n",
              "    <tr>\n",
              "      <th>82</th>\n",
              "      <td>keg</td>\n",
              "      <td>c32f0fcafa766cd79f6d9aef720665322b921095f6aa45...</td>\n",
              "      <td>compute-4.isi.edu</td>\n",
              "      <td>1</td>\n",
              "    </tr>\n",
              "    <tr>\n",
              "      <th>81</th>\n",
              "      <td>keg</td>\n",
              "      <td>c32f0fcafa766cd79f6d9aef720665322b921095f6aa45...</td>\n",
              "      <td>compute-3.isi.edu</td>\n",
              "      <td>1</td>\n",
              "    </tr>\n",
              "    <tr>\n",
              "      <th>...</th>\n",
              "      <td>...</td>\n",
              "      <td>...</td>\n",
              "      <td>...</td>\n",
              "      <td>...</td>\n",
              "    </tr>\n",
              "    <tr>\n",
              "      <th>8</th>\n",
              "      <td>1-16-1.data</td>\n",
              "      <td>fb1b5a602942f71e0d2a2939a069417d2e98724a797fa0...</td>\n",
              "      <td>compute-7.isi.edu</td>\n",
              "      <td>1</td>\n",
              "    </tr>\n",
              "    <tr>\n",
              "      <th>7</th>\n",
              "      <td>1-15-1.data</td>\n",
              "      <td>fb1b5a602942f71e0d2a2939a069417d2e98724a797fa0...</td>\n",
              "      <td>mimir.isi.edu</td>\n",
              "      <td>1</td>\n",
              "    </tr>\n",
              "    <tr>\n",
              "      <th>6</th>\n",
              "      <td>1-15-1.data</td>\n",
              "      <td>fb1b5a602942f71e0d2a2939a069417d2e98724a797fa0...</td>\n",
              "      <td>compute-7.isi.edu</td>\n",
              "      <td>1</td>\n",
              "    </tr>\n",
              "    <tr>\n",
              "      <th>5</th>\n",
              "      <td>1-15-1.data</td>\n",
              "      <td>fb1b5a602942f71e0d2a2939a069417d2e98724a797fa0...</td>\n",
              "      <td>compute-6.isi.edu</td>\n",
              "      <td>1</td>\n",
              "    </tr>\n",
              "    <tr>\n",
              "      <th>4</th>\n",
              "      <td>1-14-2.data</td>\n",
              "      <td>fb1b5a602942f71e0d2a2939a069417d2e98724a797fa0...</td>\n",
              "      <td>compute-4.isi.edu</td>\n",
              "      <td>1</td>\n",
              "    </tr>\n",
              "    <tr>\n",
              "      <th>3</th>\n",
              "      <td>1-13-1.data</td>\n",
              "      <td>fb1b5a602942f71e0d2a2939a069417d2e98724a797fa0...</td>\n",
              "      <td>mimir.isi.edu</td>\n",
              "      <td>1</td>\n",
              "    </tr>\n",
              "    <tr>\n",
              "      <th>2</th>\n",
              "      <td>1-12-1.data</td>\n",
              "      <td>fb1b5a602942f71e0d2a2939a069417d2e98724a797fa0...</td>\n",
              "      <td>compute-3.isi.edu</td>\n",
              "      <td>1</td>\n",
              "    </tr>\n",
              "    <tr>\n",
              "      <th>21</th>\n",
              "      <td>1-24-1.data</td>\n",
              "      <td>69987ce53bc9d4d9c15dbb6cdd21116b3508d82b6c081b...</td>\n",
              "      <td>compute-7.isi.edu</td>\n",
              "      <td>1</td>\n",
              "    </tr>\n",
              "    <tr>\n",
              "      <th>22</th>\n",
              "      <td>1-25-1.data</td>\n",
              "      <td>5215c8c6a3456a2eb9dab15568c4de5177a8ebbd73fd1d...</td>\n",
              "      <td>workflow.isi.edu</td>\n",
              "      <td>1</td>\n",
              "    </tr>\n",
              "    <tr>\n",
              "      <th>23</th>\n",
              "      <td>1-25-1.data</td>\n",
              "      <td>fb1b5a602942f71e0d2a2939a069417d2e98724a797fa0...</td>\n",
              "      <td>compute-7.isi.edu</td>\n",
              "      <td>1</td>\n",
              "    </tr>\n",
              "    <tr>\n",
              "      <th>34</th>\n",
              "      <td>1-36-2.data</td>\n",
              "      <td>ffcb0561e1eea75000fdd79b736acd2cb7641d9cda783c...</td>\n",
              "      <td>compute-6.isi.edu</td>\n",
              "      <td>1</td>\n",
              "    </tr>\n",
              "    <tr>\n",
              "      <th>42</th>\n",
              "      <td>1-41-1.data</td>\n",
              "      <td>fb1b5a602942f71e0d2a2939a069417d2e98724a797fa0...</td>\n",
              "      <td>compute-3.isi.edu</td>\n",
              "      <td>1</td>\n",
              "    </tr>\n",
              "    <tr>\n",
              "      <th>41</th>\n",
              "      <td>1-40-2.data</td>\n",
              "      <td>fb1b5a602942f71e0d2a2939a069417d2e98724a797fa0...</td>\n",
              "      <td>compute-1.isi.edu</td>\n",
              "      <td>1</td>\n",
              "    </tr>\n",
              "    <tr>\n",
              "      <th>40</th>\n",
              "      <td>1-40-2.data</td>\n",
              "      <td>95244359b6f5ccc73617e588ce5999284a4bcf15276762...</td>\n",
              "      <td>compute-6.isi.edu</td>\n",
              "      <td>1</td>\n",
              "    </tr>\n",
              "    <tr>\n",
              "      <th>39</th>\n",
              "      <td>1-40-1.data</td>\n",
              "      <td>fb1b5a602942f71e0d2a2939a069417d2e98724a797fa0...</td>\n",
              "      <td>compute-7.isi.edu</td>\n",
              "      <td>1</td>\n",
              "    </tr>\n",
              "    <tr>\n",
              "      <th>38</th>\n",
              "      <td>1-40-1.data</td>\n",
              "      <td>95244359b6f5ccc73617e588ce5999284a4bcf15276762...</td>\n",
              "      <td>compute-6.isi.edu</td>\n",
              "      <td>1</td>\n",
              "    </tr>\n",
              "    <tr>\n",
              "      <th>37</th>\n",
              "      <td>1-4-2.data</td>\n",
              "      <td>fb1b5a602942f71e0d2a2939a069417d2e98724a797fa0...</td>\n",
              "      <td>shrek.isi.edu</td>\n",
              "      <td>1</td>\n",
              "    </tr>\n",
              "    <tr>\n",
              "      <th>36</th>\n",
              "      <td>1-4-1.data</td>\n",
              "      <td>69987ce53bc9d4d9c15dbb6cdd21116b3508d82b6c081b...</td>\n",
              "      <td>workflow.isi.edu</td>\n",
              "      <td>1</td>\n",
              "    </tr>\n",
              "    <tr>\n",
              "      <th>35</th>\n",
              "      <td>1-39-1.data</td>\n",
              "      <td>5215c8c6a3456a2eb9dab15568c4de5177a8ebbd73fd1d...</td>\n",
              "      <td>workflow.isi.edu</td>\n",
              "      <td>1</td>\n",
              "    </tr>\n",
              "    <tr>\n",
              "      <th>33</th>\n",
              "      <td>1-36-2.data</td>\n",
              "      <td>dd6d87073a3c38b20b3a345d80a9bb2377851743f958be...</td>\n",
              "      <td>compute-1.isi.edu</td>\n",
              "      <td>1</td>\n",
              "    </tr>\n",
              "    <tr>\n",
              "      <th>24</th>\n",
              "      <td>1-26-1.data</td>\n",
              "      <td>fb1b5a602942f71e0d2a2939a069417d2e98724a797fa0...</td>\n",
              "      <td>compute-1.isi.edu</td>\n",
              "      <td>1</td>\n",
              "    </tr>\n",
              "    <tr>\n",
              "      <th>32</th>\n",
              "      <td>1-35-2.data</td>\n",
              "      <td>95244359b6f5ccc73617e588ce5999284a4bcf15276762...</td>\n",
              "      <td>compute-3.isi.edu</td>\n",
              "      <td>1</td>\n",
              "    </tr>\n",
              "    <tr>\n",
              "      <th>31</th>\n",
              "      <td>1-32-2.data</td>\n",
              "      <td>69987ce53bc9d4d9c15dbb6cdd21116b3508d82b6c081b...</td>\n",
              "      <td>compute-7.isi.edu</td>\n",
              "      <td>1</td>\n",
              "    </tr>\n",
              "    <tr>\n",
              "      <th>30</th>\n",
              "      <td>1-32-1.data</td>\n",
              "      <td>69987ce53bc9d4d9c15dbb6cdd21116b3508d82b6c081b...</td>\n",
              "      <td>compute-6.isi.edu</td>\n",
              "      <td>1</td>\n",
              "    </tr>\n",
              "    <tr>\n",
              "      <th>29</th>\n",
              "      <td>1-31-2.data</td>\n",
              "      <td>dd6d87073a3c38b20b3a345d80a9bb2377851743f958be...</td>\n",
              "      <td>compute-7.isi.edu</td>\n",
              "      <td>1</td>\n",
              "    </tr>\n",
              "    <tr>\n",
              "      <th>28</th>\n",
              "      <td>1-30-1.data</td>\n",
              "      <td>ffcb0561e1eea75000fdd79b736acd2cb7641d9cda783c...</td>\n",
              "      <td>compute-7.isi.edu</td>\n",
              "      <td>1</td>\n",
              "    </tr>\n",
              "    <tr>\n",
              "      <th>27</th>\n",
              "      <td>1-3-1.data</td>\n",
              "      <td>eb3e4ece28d95cf2b2ef144f8f1996c92be7ea3993acf3...</td>\n",
              "      <td>compute-2.isi.edu</td>\n",
              "      <td>1</td>\n",
              "    </tr>\n",
              "    <tr>\n",
              "      <th>26</th>\n",
              "      <td>1-29-1.data</td>\n",
              "      <td>67ee7aa5ad8fcb9c28a58aececc8b4637c17ced53a2b01...</td>\n",
              "      <td>shrek.isi.edu</td>\n",
              "      <td>1</td>\n",
              "    </tr>\n",
              "    <tr>\n",
              "      <th>25</th>\n",
              "      <td>1-26-2.data</td>\n",
              "      <td>67ee7aa5ad8fcb9c28a58aececc8b4637c17ced53a2b01...</td>\n",
              "      <td>compute-7.isi.edu</td>\n",
              "      <td>1</td>\n",
              "    </tr>\n",
              "    <tr>\n",
              "      <th>44</th>\n",
              "      <td>1-41-2.data</td>\n",
              "      <td>fb1b5a602942f71e0d2a2939a069417d2e98724a797fa0...</td>\n",
              "      <td>compute-7.isi.edu</td>\n",
              "      <td>1</td>\n",
              "    </tr>\n",
              "  </tbody>\n",
              "</table>\n",
              "<p>89 rows × 4 columns</p>\n",
              "</div>"
            ],
            "text/plain": [
              "       filename                                   actual__checksum  \\\n",
              "87          keg  c32f0fcafa766cd79f6d9aef720665322b921095f6aa45...   \n",
              "84          keg  c32f0fcafa766cd79f6d9aef720665322b921095f6aa45...   \n",
              "85          keg  c32f0fcafa766cd79f6d9aef720665322b921095f6aa45...   \n",
              "88          keg  c32f0fcafa766cd79f6d9aef720665322b921095f6aa45...   \n",
              "86          keg  c32f0fcafa766cd79f6d9aef720665322b921095f6aa45...   \n",
              "80          keg  c32f0fcafa766cd79f6d9aef720665322b921095f6aa45...   \n",
              "55  1-46-2.data  eb3e4ece28d95cf2b2ef144f8f1996c92be7ea3993acf3...   \n",
              "62   1-5-2.data  ffcb0561e1eea75000fdd79b736acd2cb7641d9cda783c...   \n",
              "61   1-5-1.data  c1a276bb9a230d6580d29e0bdebab5895aa855761fc2da...   \n",
              "60  1-49-2.data  ffcb0561e1eea75000fdd79b736acd2cb7641d9cda783c...   \n",
              "59  1-49-2.data  eb3e4ece28d95cf2b2ef144f8f1996c92be7ea3993acf3...   \n",
              "58  1-49-1.data  ffcb0561e1eea75000fdd79b736acd2cb7641d9cda783c...   \n",
              "57  1-48-2.data  5215c8c6a3456a2eb9dab15568c4de5177a8ebbd73fd1d...   \n",
              "56  1-48-1.data  c1a276bb9a230d6580d29e0bdebab5895aa855761fc2da...   \n",
              "52  1-45-2.data  f3ef8e530f6e9879927d322e1fc9902c4d1df2a0202b97...   \n",
              "54  1-46-2.data  95244359b6f5ccc73617e588ce5999284a4bcf15276762...   \n",
              "53  1-46-1.data  eb3e4ece28d95cf2b2ef144f8f1996c92be7ea3993acf3...   \n",
              "64   1-6-1.data  5215c8c6a3456a2eb9dab15568c4de5177a8ebbd73fd1d...   \n",
              "51  1-45-1.data  95244359b6f5ccc73617e588ce5999284a4bcf15276762...   \n",
              "50  1-44-2.data  f3ef8e530f6e9879927d322e1fc9902c4d1df2a0202b97...   \n",
              "49  1-44-1.data  ffcb0561e1eea75000fdd79b736acd2cb7641d9cda783c...   \n",
              "48  1-44-1.data  f3ef8e530f6e9879927d322e1fc9902c4d1df2a0202b97...   \n",
              "47  1-43-1.data  67ee7aa5ad8fcb9c28a58aececc8b4637c17ced53a2b01...   \n",
              "63   1-6-1.data  5215c8c6a3456a2eb9dab15568c4de5177a8ebbd73fd1d...   \n",
              "67   1-7-2.data  5215c8c6a3456a2eb9dab15568c4de5177a8ebbd73fd1d...   \n",
              "65   1-7-1.data  95244359b6f5ccc73617e588ce5999284a4bcf15276762...   \n",
              "75   2-3-1.data  f3ef8e530f6e9879927d322e1fc9902c4d1df2a0202b97...   \n",
              "83          keg  c32f0fcafa766cd79f6d9aef720665322b921095f6aa45...   \n",
              "82          keg  c32f0fcafa766cd79f6d9aef720665322b921095f6aa45...   \n",
              "81          keg  c32f0fcafa766cd79f6d9aef720665322b921095f6aa45...   \n",
              "..          ...                                                ...   \n",
              "8   1-16-1.data  fb1b5a602942f71e0d2a2939a069417d2e98724a797fa0...   \n",
              "7   1-15-1.data  fb1b5a602942f71e0d2a2939a069417d2e98724a797fa0...   \n",
              "6   1-15-1.data  fb1b5a602942f71e0d2a2939a069417d2e98724a797fa0...   \n",
              "5   1-15-1.data  fb1b5a602942f71e0d2a2939a069417d2e98724a797fa0...   \n",
              "4   1-14-2.data  fb1b5a602942f71e0d2a2939a069417d2e98724a797fa0...   \n",
              "3   1-13-1.data  fb1b5a602942f71e0d2a2939a069417d2e98724a797fa0...   \n",
              "2   1-12-1.data  fb1b5a602942f71e0d2a2939a069417d2e98724a797fa0...   \n",
              "21  1-24-1.data  69987ce53bc9d4d9c15dbb6cdd21116b3508d82b6c081b...   \n",
              "22  1-25-1.data  5215c8c6a3456a2eb9dab15568c4de5177a8ebbd73fd1d...   \n",
              "23  1-25-1.data  fb1b5a602942f71e0d2a2939a069417d2e98724a797fa0...   \n",
              "34  1-36-2.data  ffcb0561e1eea75000fdd79b736acd2cb7641d9cda783c...   \n",
              "42  1-41-1.data  fb1b5a602942f71e0d2a2939a069417d2e98724a797fa0...   \n",
              "41  1-40-2.data  fb1b5a602942f71e0d2a2939a069417d2e98724a797fa0...   \n",
              "40  1-40-2.data  95244359b6f5ccc73617e588ce5999284a4bcf15276762...   \n",
              "39  1-40-1.data  fb1b5a602942f71e0d2a2939a069417d2e98724a797fa0...   \n",
              "38  1-40-1.data  95244359b6f5ccc73617e588ce5999284a4bcf15276762...   \n",
              "37   1-4-2.data  fb1b5a602942f71e0d2a2939a069417d2e98724a797fa0...   \n",
              "36   1-4-1.data  69987ce53bc9d4d9c15dbb6cdd21116b3508d82b6c081b...   \n",
              "35  1-39-1.data  5215c8c6a3456a2eb9dab15568c4de5177a8ebbd73fd1d...   \n",
              "33  1-36-2.data  dd6d87073a3c38b20b3a345d80a9bb2377851743f958be...   \n",
              "24  1-26-1.data  fb1b5a602942f71e0d2a2939a069417d2e98724a797fa0...   \n",
              "32  1-35-2.data  95244359b6f5ccc73617e588ce5999284a4bcf15276762...   \n",
              "31  1-32-2.data  69987ce53bc9d4d9c15dbb6cdd21116b3508d82b6c081b...   \n",
              "30  1-32-1.data  69987ce53bc9d4d9c15dbb6cdd21116b3508d82b6c081b...   \n",
              "29  1-31-2.data  dd6d87073a3c38b20b3a345d80a9bb2377851743f958be...   \n",
              "28  1-30-1.data  ffcb0561e1eea75000fdd79b736acd2cb7641d9cda783c...   \n",
              "27   1-3-1.data  eb3e4ece28d95cf2b2ef144f8f1996c92be7ea3993acf3...   \n",
              "26  1-29-1.data  67ee7aa5ad8fcb9c28a58aececc8b4637c17ced53a2b01...   \n",
              "25  1-26-2.data  67ee7aa5ad8fcb9c28a58aececc8b4637c17ced53a2b01...   \n",
              "44  1-41-2.data  fb1b5a602942f71e0d2a2939a069417d2e98724a797fa0...   \n",
              "\n",
              "   execution__hostname  checksum__failure  \n",
              "87       shrek.isi.edu                  9  \n",
              "84   compute-6.isi.edu                  8  \n",
              "85   compute-7.isi.edu                  6  \n",
              "88    workflow.isi.edu                  5  \n",
              "86       mimir.isi.edu                  3  \n",
              "80   compute-1.isi.edu                  2  \n",
              "55   compute-1.isi.edu                  1  \n",
              "62   compute-1.isi.edu                  1  \n",
              "61   compute-6.isi.edu                  1  \n",
              "60   compute-7.isi.edu                  1  \n",
              "59   compute-7.isi.edu                  1  \n",
              "58       shrek.isi.edu                  1  \n",
              "57   compute-7.isi.edu                  1  \n",
              "56   compute-7.isi.edu                  1  \n",
              "52   compute-7.isi.edu                  1  \n",
              "54   compute-7.isi.edu                  1  \n",
              "53    workflow.isi.edu                  1  \n",
              "64       shrek.isi.edu                  1  \n",
              "51   compute-6.isi.edu                  1  \n",
              "50   compute-7.isi.edu                  1  \n",
              "49   compute-7.isi.edu                  1  \n",
              "48   compute-7.isi.edu                  1  \n",
              "47   compute-6.isi.edu                  1  \n",
              "63   compute-6.isi.edu                  1  \n",
              "67   compute-7.isi.edu                  1  \n",
              "65   compute-6.isi.edu                  1  \n",
              "75    workflow.isi.edu                  1  \n",
              "83   compute-5.isi.edu                  1  \n",
              "82   compute-4.isi.edu                  1  \n",
              "81   compute-3.isi.edu                  1  \n",
              "..                 ...                ...  \n",
              "8    compute-7.isi.edu                  1  \n",
              "7        mimir.isi.edu                  1  \n",
              "6    compute-7.isi.edu                  1  \n",
              "5    compute-6.isi.edu                  1  \n",
              "4    compute-4.isi.edu                  1  \n",
              "3        mimir.isi.edu                  1  \n",
              "2    compute-3.isi.edu                  1  \n",
              "21   compute-7.isi.edu                  1  \n",
              "22    workflow.isi.edu                  1  \n",
              "23   compute-7.isi.edu                  1  \n",
              "34   compute-6.isi.edu                  1  \n",
              "42   compute-3.isi.edu                  1  \n",
              "41   compute-1.isi.edu                  1  \n",
              "40   compute-6.isi.edu                  1  \n",
              "39   compute-7.isi.edu                  1  \n",
              "38   compute-6.isi.edu                  1  \n",
              "37       shrek.isi.edu                  1  \n",
              "36    workflow.isi.edu                  1  \n",
              "35    workflow.isi.edu                  1  \n",
              "33   compute-1.isi.edu                  1  \n",
              "24   compute-1.isi.edu                  1  \n",
              "32   compute-3.isi.edu                  1  \n",
              "31   compute-7.isi.edu                  1  \n",
              "30   compute-6.isi.edu                  1  \n",
              "29   compute-7.isi.edu                  1  \n",
              "28   compute-7.isi.edu                  1  \n",
              "27   compute-2.isi.edu                  1  \n",
              "26       shrek.isi.edu                  1  \n",
              "25   compute-7.isi.edu                  1  \n",
              "44   compute-7.isi.edu                  1  \n",
              "\n",
              "[89 rows x 4 columns]"
            ]
          },
          "metadata": {
            "tags": []
          },
          "execution_count": 9
        }
      ]
    },
    {
      "cell_type": "code",
      "metadata": {
        "id": "mJf0_57x6VD5",
        "colab_type": "code",
        "colab": {}
      },
      "source": [
        "#for each workflow what are the execution hosts where integrity errors occurred\n",
        "top_integrity_err_exec_host = df.groupby(['root_xwf__id',\"execution__hostname\"])[\"checksum__failure\"].agg('sum').reset_index().sort_values(by = [\"root_xwf__id\",\"checksum__failure\"],ascending = False)#.filter(lambda x :x[\"checksum__failure\"]!=0)\n",
        "top_integrity_err_exec_host = top_integrity_err_exec_host[top_integrity_err_exec_host[\"checksum__failure\"]>0]"
      ],
      "execution_count": 0,
      "outputs": []
    },
    {
      "cell_type": "code",
      "metadata": {
        "id": "0CKc0fplx6VF",
        "colab_type": "code",
        "outputId": "44018a61-32d2-484c-b5c0-7d40cdd94cde",
        "colab": {
          "base_uri": "https://localhost:8080/",
          "height": 644
        }
      },
      "source": [
        "top_integrity_err_exec_host[:20]"
      ],
      "execution_count": 11,
      "outputs": [
        {
          "output_type": "execute_result",
          "data": {
            "text/html": [
              "<div>\n",
              "<style scoped>\n",
              "    .dataframe tbody tr th:only-of-type {\n",
              "        vertical-align: middle;\n",
              "    }\n",
              "\n",
              "    .dataframe tbody tr th {\n",
              "        vertical-align: top;\n",
              "    }\n",
              "\n",
              "    .dataframe thead th {\n",
              "        text-align: right;\n",
              "    }\n",
              "</style>\n",
              "<table border=\"1\" class=\"dataframe\">\n",
              "  <thead>\n",
              "    <tr style=\"text-align: right;\">\n",
              "      <th></th>\n",
              "      <th>root_xwf__id</th>\n",
              "      <th>execution__hostname</th>\n",
              "      <th>checksum__failure</th>\n",
              "    </tr>\n",
              "  </thead>\n",
              "  <tbody>\n",
              "    <tr>\n",
              "      <th>835</th>\n",
              "      <td>ef75c71f-c8b9-4011-9aea-953baabcd709</td>\n",
              "      <td>compute-7.isi.edu</td>\n",
              "      <td>7</td>\n",
              "    </tr>\n",
              "    <tr>\n",
              "      <th>834</th>\n",
              "      <td>ef75c71f-c8b9-4011-9aea-953baabcd709</td>\n",
              "      <td>compute-6.isi.edu</td>\n",
              "      <td>2</td>\n",
              "    </tr>\n",
              "    <tr>\n",
              "      <th>831</th>\n",
              "      <td>ef75c71f-c8b9-4011-9aea-953baabcd709</td>\n",
              "      <td>compute-2.isi.edu</td>\n",
              "      <td>1</td>\n",
              "    </tr>\n",
              "    <tr>\n",
              "      <th>722</th>\n",
              "      <td>ce9f7383-5929-4d00-a148-2febc58f0a8c</td>\n",
              "      <td>compute-1.isi.edu</td>\n",
              "      <td>2</td>\n",
              "    </tr>\n",
              "    <tr>\n",
              "      <th>727</th>\n",
              "      <td>ce9f7383-5929-4d00-a148-2febc58f0a8c</td>\n",
              "      <td>compute-7.isi.edu</td>\n",
              "      <td>2</td>\n",
              "    </tr>\n",
              "    <tr>\n",
              "      <th>730</th>\n",
              "      <td>ce9f7383-5929-4d00-a148-2febc58f0a8c</td>\n",
              "      <td>workflow.isi.edu</td>\n",
              "      <td>2</td>\n",
              "    </tr>\n",
              "    <tr>\n",
              "      <th>723</th>\n",
              "      <td>ce9f7383-5929-4d00-a148-2febc58f0a8c</td>\n",
              "      <td>compute-2.isi.edu</td>\n",
              "      <td>1</td>\n",
              "    </tr>\n",
              "    <tr>\n",
              "      <th>728</th>\n",
              "      <td>ce9f7383-5929-4d00-a148-2febc58f0a8c</td>\n",
              "      <td>mimir.isi.edu</td>\n",
              "      <td>1</td>\n",
              "    </tr>\n",
              "    <tr>\n",
              "      <th>729</th>\n",
              "      <td>ce9f7383-5929-4d00-a148-2febc58f0a8c</td>\n",
              "      <td>shrek.isi.edu</td>\n",
              "      <td>1</td>\n",
              "    </tr>\n",
              "    <tr>\n",
              "      <th>714</th>\n",
              "      <td>cd3b7c48-63a8-460b-a2f9-d3c2df42f175</td>\n",
              "      <td>compute-7.isi.edu</td>\n",
              "      <td>5</td>\n",
              "    </tr>\n",
              "    <tr>\n",
              "      <th>713</th>\n",
              "      <td>cd3b7c48-63a8-460b-a2f9-d3c2df42f175</td>\n",
              "      <td>compute-6.isi.edu</td>\n",
              "      <td>3</td>\n",
              "    </tr>\n",
              "    <tr>\n",
              "      <th>716</th>\n",
              "      <td>cd3b7c48-63a8-460b-a2f9-d3c2df42f175</td>\n",
              "      <td>shrek.isi.edu</td>\n",
              "      <td>3</td>\n",
              "    </tr>\n",
              "    <tr>\n",
              "      <th>715</th>\n",
              "      <td>cd3b7c48-63a8-460b-a2f9-d3c2df42f175</td>\n",
              "      <td>mimir.isi.edu</td>\n",
              "      <td>2</td>\n",
              "    </tr>\n",
              "    <tr>\n",
              "      <th>615</th>\n",
              "      <td>ad30ae9d-5aac-4131-b9b2-b04e725ff175</td>\n",
              "      <td>compute-7.isi.edu</td>\n",
              "      <td>5</td>\n",
              "    </tr>\n",
              "    <tr>\n",
              "      <th>614</th>\n",
              "      <td>ad30ae9d-5aac-4131-b9b2-b04e725ff175</td>\n",
              "      <td>compute-6.isi.edu</td>\n",
              "      <td>4</td>\n",
              "    </tr>\n",
              "    <tr>\n",
              "      <th>618</th>\n",
              "      <td>ad30ae9d-5aac-4131-b9b2-b04e725ff175</td>\n",
              "      <td>workflow.isi.edu</td>\n",
              "      <td>2</td>\n",
              "    </tr>\n",
              "    <tr>\n",
              "      <th>613</th>\n",
              "      <td>ad30ae9d-5aac-4131-b9b2-b04e725ff175</td>\n",
              "      <td>compute-4.isi.edu</td>\n",
              "      <td>1</td>\n",
              "    </tr>\n",
              "    <tr>\n",
              "      <th>577</th>\n",
              "      <td>a08a4829-8147-4c76-a13d-a7dc7c829ddc</td>\n",
              "      <td>compute-6.isi.edu</td>\n",
              "      <td>3</td>\n",
              "    </tr>\n",
              "    <tr>\n",
              "      <th>573</th>\n",
              "      <td>a08a4829-8147-4c76-a13d-a7dc7c829ddc</td>\n",
              "      <td>compute-1.isi.edu</td>\n",
              "      <td>2</td>\n",
              "    </tr>\n",
              "    <tr>\n",
              "      <th>579</th>\n",
              "      <td>a08a4829-8147-4c76-a13d-a7dc7c829ddc</td>\n",
              "      <td>mimir.isi.edu</td>\n",
              "      <td>2</td>\n",
              "    </tr>\n",
              "  </tbody>\n",
              "</table>\n",
              "</div>"
            ],
            "text/plain": [
              "                             root_xwf__id execution__hostname  \\\n",
              "835  ef75c71f-c8b9-4011-9aea-953baabcd709   compute-7.isi.edu   \n",
              "834  ef75c71f-c8b9-4011-9aea-953baabcd709   compute-6.isi.edu   \n",
              "831  ef75c71f-c8b9-4011-9aea-953baabcd709   compute-2.isi.edu   \n",
              "722  ce9f7383-5929-4d00-a148-2febc58f0a8c   compute-1.isi.edu   \n",
              "727  ce9f7383-5929-4d00-a148-2febc58f0a8c   compute-7.isi.edu   \n",
              "730  ce9f7383-5929-4d00-a148-2febc58f0a8c    workflow.isi.edu   \n",
              "723  ce9f7383-5929-4d00-a148-2febc58f0a8c   compute-2.isi.edu   \n",
              "728  ce9f7383-5929-4d00-a148-2febc58f0a8c       mimir.isi.edu   \n",
              "729  ce9f7383-5929-4d00-a148-2febc58f0a8c       shrek.isi.edu   \n",
              "714  cd3b7c48-63a8-460b-a2f9-d3c2df42f175   compute-7.isi.edu   \n",
              "713  cd3b7c48-63a8-460b-a2f9-d3c2df42f175   compute-6.isi.edu   \n",
              "716  cd3b7c48-63a8-460b-a2f9-d3c2df42f175       shrek.isi.edu   \n",
              "715  cd3b7c48-63a8-460b-a2f9-d3c2df42f175       mimir.isi.edu   \n",
              "615  ad30ae9d-5aac-4131-b9b2-b04e725ff175   compute-7.isi.edu   \n",
              "614  ad30ae9d-5aac-4131-b9b2-b04e725ff175   compute-6.isi.edu   \n",
              "618  ad30ae9d-5aac-4131-b9b2-b04e725ff175    workflow.isi.edu   \n",
              "613  ad30ae9d-5aac-4131-b9b2-b04e725ff175   compute-4.isi.edu   \n",
              "577  a08a4829-8147-4c76-a13d-a7dc7c829ddc   compute-6.isi.edu   \n",
              "573  a08a4829-8147-4c76-a13d-a7dc7c829ddc   compute-1.isi.edu   \n",
              "579  a08a4829-8147-4c76-a13d-a7dc7c829ddc       mimir.isi.edu   \n",
              "\n",
              "     checksum__failure  \n",
              "835                  7  \n",
              "834                  2  \n",
              "831                  1  \n",
              "722                  2  \n",
              "727                  2  \n",
              "730                  2  \n",
              "723                  1  \n",
              "728                  1  \n",
              "729                  1  \n",
              "714                  5  \n",
              "713                  3  \n",
              "716                  3  \n",
              "715                  2  \n",
              "615                  5  \n",
              "614                  4  \n",
              "618                  2  \n",
              "613                  1  \n",
              "577                  3  \n",
              "573                  2  \n",
              "579                  2  "
            ]
          },
          "metadata": {
            "tags": []
          },
          "execution_count": 11
        }
      ]
    },
    {
      "cell_type": "code",
      "metadata": {
        "id": "frjL9OI8y-oo",
        "colab_type": "code",
        "outputId": "1e981dd5-66d1-4c21-83db-851d62887f5b",
        "colab": {
          "base_uri": "https://localhost:8080/",
          "height": 305
        }
      },
      "source": [
        "#job exit codes where integrity errors occurred\n",
        "top_integrity_err_jobtype = df.groupby([\"job__exitcode\"])[\"checksum__failure\"].agg('sum').apply(lambda x:x/integrity_err_count*100).sort_values(ascending=False)#.filter(lambda x :x[\"checksum__failure\"]!=0)\n",
        "top_integrity_err_jobtype.plot.bar()\n",
        "import matplotlib.pyplot as plt  \n",
        "# # plot between 2 attributes \n",
        "\n",
        "\n",
        "plt.xlabel(\"job__exitcode\") \n",
        "plt.ylabel(\"checksum_failure %\") \n",
        "plt.legend()\n",
        "plt.show() "
      ],
      "execution_count": 12,
      "outputs": [
        {
          "output_type": "display_data",
          "data": {
            "image/png": "[encoded data removed]",
            "text/plain": [
              "<Figure size 432x288 with 1 Axes>"
            ]
          },
          "metadata": {
            "tags": []
          }
        }
      ]
    },
    {
      "cell_type": "code",
      "metadata": {
        "id": "iiZ3oB1XAgw2",
        "colab_type": "code",
        "outputId": "7dc6165a-e696-4fea-83b4-58800d12aa28",
        "colab": {
          "base_uri": "https://localhost:8080/",
          "height": 150
        }
      },
      "source": [
        "!pip install kmodes"
      ],
      "execution_count": 0,
      "outputs": [
        {
          "output_type": "stream",
          "text": [
            "Collecting kmodes\n",
            "  Downloading https://files.pythonhosted.org/packages/79/c0/f7d8a0eb41ac6f302b4bc100f91b6e0f2558425ccfefaa0ec0430f77ee97/kmodes-0.10.1-py2.py3-none-any.whl\n",
            "Requirement already satisfied: joblib>=0.11 in /usr/local/lib/python3.6/dist-packages (from kmodes) (0.12.5)\n",
            "Requirement already satisfied: numpy>=1.10.4 in /usr/local/lib/python3.6/dist-packages (from kmodes) (1.16.3)\n",
            "Requirement already satisfied: scipy>=0.13.3 in /usr/local/lib/python3.6/dist-packages (from kmodes) (1.2.1)\n",
            "Requirement already satisfied: scikit-learn>=0.19.0 in /usr/local/lib/python3.6/dist-packages (from kmodes) (0.20.3)\n",
            "Installing collected packages: kmodes\n",
            "Successfully installed kmodes-0.10.1\n"
          ],
          "name": "stdout"
        }
      ]
    },
    {
      "cell_type": "code",
      "metadata": {
        "id": "kxrFhd5W9ZKS",
        "colab_type": "code",
        "colab": {}
      },
      "source": [
        "# objectdf=df.select_dtypes(include='object')\n",
        "# df.loc[:,objectdf.columns]=objectdf.apply(lambda x : pd.factorize(x)[0])"
      ],
      "execution_count": 0,
      "outputs": []
    },
    {
      "cell_type": "markdown",
      "metadata": {
        "id": "UTzU1BSvGXpG",
        "colab_type": "text"
      },
      "source": [
        ""
      ]
    },
    {
      "cell_type": "code",
      "metadata": {
        "id": "eXJ1mGCq_TNe",
        "colab_type": "code",
        "colab": {}
      },
      "source": [
        "\n",
        "#df.to_csv('/content/drive/My Drive/Colab Notebooks/ISI/processed_df.csv')"
      ],
      "execution_count": 0,
      "outputs": []
    },
    {
      "cell_type": "code",
      "metadata": {
        "id": "0PNew_0bAKpB",
        "colab_type": "code",
        "outputId": "6304d1a8-3104-4a13-fde3-2a811f16d34e",
        "colab": {
          "base_uri": "https://localhost:8080/",
          "height": 150
        }
      },
      "source": [
        "!pip install kmodes\n",
        "import seaborn as sns"
      ],
      "execution_count": 13,
      "outputs": [
        {
          "output_type": "stream",
          "text": [
            "Collecting kmodes\n",
            "  Downloading https://files.pythonhosted.org/packages/79/c0/f7d8a0eb41ac6f302b4bc100f91b6e0f2558425ccfefaa0ec0430f77ee97/kmodes-0.10.1-py2.py3-none-any.whl\n",
            "Requirement already satisfied: scipy>=0.13.3 in /usr/local/lib/python3.6/dist-packages (from kmodes) (1.2.1)\n",
            "Requirement already satisfied: scikit-learn>=0.19.0 in /usr/local/lib/python3.6/dist-packages (from kmodes) (0.20.3)\n",
            "Requirement already satisfied: numpy>=1.10.4 in /usr/local/lib/python3.6/dist-packages (from kmodes) (1.16.3)\n",
            "Requirement already satisfied: joblib>=0.11 in /usr/local/lib/python3.6/dist-packages (from kmodes) (0.12.5)\n",
            "Installing collected packages: kmodes\n",
            "Successfully installed kmodes-0.10.1\n"
          ],
          "name": "stdout"
        }
      ]
    },
    {
      "cell_type": "code",
      "metadata": {
        "id": "BYbSkOkGhzLA",
        "colab_type": "code",
        "colab": {}
      },
      "source": [
        "# df.fillna(0,inplace = True)\n",
        "\n",
        "# df.to_csv('/content/drive/My Drive/Colab Notebooks/ISI/processed_df.csv')"
      ],
      "execution_count": 0,
      "outputs": []
    },
    {
      "cell_type": "code",
      "metadata": {
        "id": "N8NUNQeMoeFx",
        "colab_type": "code",
        "outputId": "26fa6c7d-9a43-4cc1-d2fe-267bc85f1b5e",
        "colab": {
          "base_uri": "https://localhost:8080/",
          "height": 577
        }
      },
      "source": [
        "import numpy as np\n",
        "\n",
        "\n",
        "#plotting heat map to compute correlation between different variables\n",
        "Sum_of_squared_distances = []\n",
        "costs= []\n",
        "X = df[['job__type','execution__site','local__dur','source__proto__host','dest__proto__host','job__exitcode','job__id','checksum__failure']]\n",
        "X.fillna(0,inplace=True)\n",
        "X.loc[:,:]=X.apply(lambda x : pd.factorize(x)[0])   \n",
        "\n",
        "cor = X.corr() #Calculate the correlation of the above variables\n",
        "sns.heatmap(cor, square = True)\n"
      ],
      "execution_count": 61,
      "outputs": [
        {
          "output_type": "stream",
          "text": [
            "/usr/local/lib/python3.6/dist-packages/pandas/core/frame.py:4034: SettingWithCopyWarning: \n",
            "A value is trying to be set on a copy of a slice from a DataFrame\n",
            "\n",
            "See the caveats in the documentation: http://pandas.pydata.org/pandas-docs/stable/indexing.html#indexing-view-versus-copy\n",
            "  downcast=downcast, **kwargs)\n",
            "/usr/local/lib/python3.6/dist-packages/pandas/core/indexing.py:543: SettingWithCopyWarning: \n",
            "A value is trying to be set on a copy of a slice from a DataFrame.\n",
            "Try using .loc[row_indexer,col_indexer] = value instead\n",
            "\n",
            "See the caveats in the documentation: http://pandas.pydata.org/pandas-docs/stable/indexing.html#indexing-view-versus-copy\n",
            "  self.obj[item] = s\n"
          ],
          "name": "stderr"
        },
        {
          "output_type": "execute_result",
          "data": {
            "text/plain": [
              "<matplotlib.axes._subplots.AxesSubplot at 0x7fdc62a063c8>"
            ]
          },
          "metadata": {
            "tags": []
          },
          "execution_count": 61
        },
        {
          "output_type": "display_data",
          "data": {
            "image/png": "[encoded data removed]",
            "text/plain": [
              "<Figure size 432x288 with 2 Axes>"
            ]
          },
          "metadata": {
            "tags": []
          }
        }
      ]
    },
    {
      "cell_type": "code",
      "metadata": {
        "id": "K9GPSB6nTNpw",
        "colab_type": "code",
        "outputId": "6e0a14df-d1c5-45b5-e487-8db07ecbe020",
        "colab": {
          "base_uri": "https://localhost:8080/",
          "height": 1171
        }
      },
      "source": [
        "from kmodes import kmodes\n",
        "from kmodes.util.dissim import matching_dissim\n",
        "K = range(1,15)\n",
        "#choosing subset of variables only\n",
        "X = X[['job__type','execution__site','local__dur','source__proto__host','dest__proto__host','job__exitcode','job__id']]\n",
        "kmodes_cao_k = []\n",
        "for k in K:\n",
        "    kmodes_cao = kmodes.KModes(n_clusters=k, init='Cao', verbose=1)\n",
        "    kmodes_cao_k.append(kmodes_cao)\n",
        "    kmodes_cao.fit_predict(X)\n",
        "    labels,cost =  kmodes._labels_cost(X, kmodes_cao.cluster_centroids_,matching_dissim)\n",
        "    costs.append(cost)"
      ],
      "execution_count": 62,
      "outputs": [
        {
          "output_type": "stream",
          "text": [
            "Init: initializing centroids\n",
            "Init: initializing clusters\n",
            "Starting iterations...\n",
            "Run 1, iteration: 1/100, moves: 0, cost: 67112.0\n",
            "Init: initializing centroids\n",
            "Init: initializing clusters\n",
            "Starting iterations...\n",
            "Run 1, iteration: 1/100, moves: 380, cost: 60493.0\n",
            "Run 1, iteration: 2/100, moves: 0, cost: 60493.0\n",
            "Init: initializing centroids\n",
            "Init: initializing clusters\n",
            "Starting iterations...\n",
            "Run 1, iteration: 1/100, moves: 2480, cost: 46242.0\n",
            "Run 1, iteration: 2/100, moves: 79, cost: 46242.0\n",
            "Init: initializing centroids\n",
            "Init: initializing clusters\n",
            "Starting iterations...\n",
            "Run 1, iteration: 1/100, moves: 450, cost: 45158.0\n",
            "Run 1, iteration: 2/100, moves: 0, cost: 45158.0\n",
            "Init: initializing centroids\n",
            "Init: initializing clusters\n",
            "Starting iterations...\n",
            "Run 1, iteration: 1/100, moves: 529, cost: 44775.0\n",
            "Run 1, iteration: 2/100, moves: 0, cost: 44775.0\n",
            "Init: initializing centroids\n",
            "Init: initializing clusters\n",
            "Starting iterations...\n",
            "Run 1, iteration: 1/100, moves: 2340, cost: 39058.0\n",
            "Run 1, iteration: 2/100, moves: 317, cost: 39058.0\n",
            "Init: initializing centroids\n",
            "Init: initializing clusters\n",
            "Starting iterations...\n",
            "Run 1, iteration: 1/100, moves: 2802, cost: 36715.0\n",
            "Run 1, iteration: 2/100, moves: 272, cost: 36715.0\n",
            "Init: initializing centroids\n",
            "Init: initializing clusters\n",
            "Starting iterations...\n",
            "Run 1, iteration: 1/100, moves: 2630, cost: 35655.0\n",
            "Run 1, iteration: 2/100, moves: 45, cost: 35655.0\n",
            "Init: initializing centroids\n",
            "Init: initializing clusters\n",
            "Starting iterations...\n",
            "Run 1, iteration: 1/100, moves: 2716, cost: 35501.0\n",
            "Run 1, iteration: 2/100, moves: 45, cost: 35501.0\n",
            "Init: initializing centroids\n",
            "Init: initializing clusters\n",
            "Starting iterations...\n",
            "Run 1, iteration: 1/100, moves: 2071, cost: 34763.0\n",
            "Run 1, iteration: 2/100, moves: 43, cost: 34763.0\n",
            "Init: initializing centroids\n",
            "Init: initializing clusters\n",
            "Starting iterations...\n",
            "Run 1, iteration: 1/100, moves: 2337, cost: 34357.0\n",
            "Run 1, iteration: 2/100, moves: 43, cost: 34357.0\n",
            "Init: initializing centroids\n",
            "Init: initializing clusters\n",
            "Starting iterations...\n",
            "Run 1, iteration: 1/100, moves: 2298, cost: 34219.0\n",
            "Run 1, iteration: 2/100, moves: 43, cost: 34219.0\n",
            "Init: initializing centroids\n",
            "Init: initializing clusters\n",
            "Starting iterations...\n",
            "Run 1, iteration: 1/100, moves: 2090, cost: 33966.0\n",
            "Run 1, iteration: 2/100, moves: 69, cost: 33966.0\n",
            "Init: initializing centroids\n",
            "Init: initializing clusters\n",
            "Starting iterations...\n",
            "Run 1, iteration: 1/100, moves: 1411, cost: 33183.0\n",
            "Run 1, iteration: 2/100, moves: 37, cost: 33183.0\n"
          ],
          "name": "stdout"
        }
      ]
    },
    {
      "cell_type": "code",
      "metadata": {
        "id": "-WxS1Z7o1NEg",
        "colab_type": "code",
        "outputId": "1e3ceed8-cebc-453b-efa1-4ec5a0d108e0",
        "colab": {
          "base_uri": "https://localhost:8080/",
          "height": 310
        }
      },
      "source": [
        "import numpy as np\n",
        "import matplotlib.pyplot as plt\n",
        "\n",
        "indices = np.arange(len(costs))\n",
        "plt.bar(indices, costs,color='r')\n",
        "#choosing the optimal cost\n",
        "plt.tight_layout()\n",
        "plt.xlabel(\"number of clusters\")\n",
        "plt.ylabel(\"cost\")\n",
        "plt.show()"
      ],
      "execution_count": 63,
      "outputs": [
        {
          "output_type": "display_data",
          "data": {
            "image/png": "[encoded data removed]",
            "text/plain": [
              "<Figure size 432x288 with 1 Axes>"
            ]
          },
          "metadata": {
            "tags": []
          }
        }
      ]
    },
    {
      "cell_type": "code",
      "metadata": {
        "id": "oTadXJ7crzEG",
        "colab_type": "code",
        "outputId": "2d01a87a-92bf-41dd-87e5-8b11182855c0",
        "colab": {
          "base_uri": "https://localhost:8080/",
          "height": 184
        }
      },
      "source": [
        "#  X = df[['job__type','execution__site','local__dur','source__proto__host','dest__proto__host','job__exitcode','job__id']]\n",
        "# X.fillna(0,inplace=True)\n",
        "X.loc[:,:]=X.apply(lambda x : pd.factorize(x)[0])"
      ],
      "execution_count": 23,
      "outputs": [
        {
          "output_type": "stream",
          "text": [
            "/usr/local/lib/python3.6/dist-packages/pandas/core/indexing.py:190: SettingWithCopyWarning: \n",
            "A value is trying to be set on a copy of a slice from a DataFrame\n",
            "\n",
            "See the caveats in the documentation: http://pandas.pydata.org/pandas-docs/stable/indexing.html#indexing-view-versus-copy\n",
            "  self._setitem_with_indexer(indexer, value)\n",
            "/usr/local/lib/python3.6/dist-packages/ipykernel_launcher.py:1: SettingWithCopyWarning: \n",
            "A value is trying to be set on a copy of a slice from a DataFrame\n",
            "\n",
            "See the caveats in the documentation: http://pandas.pydata.org/pandas-docs/stable/indexing.html#indexing-view-versus-copy\n",
            "  \"\"\"Entry point for launching an IPython kernel.\n"
          ],
          "name": "stderr"
        }
      ]
    },
    {
      "cell_type": "code",
      "metadata": {
        "id": "h23Cz9-pnFQ-",
        "colab_type": "code",
        "colab": {}
      },
      "source": [
        "y_kmodes = kmodes_cao_k[2].predict(X)\n",
        "centroids = kmodes_cao_k[2].cluster_centroids_\n",
        "labels= kmodes_cao_k[2].labels_\n",
        "\n",
        "kmodes = pd.DataFrame(labels)\n",
        "#X.insert((X.shape[1]),'kmodes',kmodes)\n",
        "\n",
        "# fig = plt.figure()\n",
        "# ax = fig.add_subplot(111)\n",
        "# scatter = ax.scatter(X['execution__site'],df1['checksum__failure'],\n",
        "#                      c=kmeans[0],s=50)\n",
        "# ax.set_title('K-Mod Clustering')\n",
        "# ax.set_xlabel('execution__site')\n",
        "# ax.set_ylabel('checksum__failure')\n",
        "# plt.colorbar(scatter)"
      ],
      "execution_count": 0,
      "outputs": []
    },
    {
      "cell_type": "code",
      "metadata": {
        "id": "qj8Pj0HzJyVy",
        "colab_type": "code",
        "outputId": "4ee6a74b-8be7-43bc-e9f5-f5a011267479",
        "colab": {
          "base_uri": "https://localhost:8080/",
          "height": 308
        }
      },
      "source": [
        "%matplotlib inline\n",
        "import matplotlib.pyplot as plt\n",
        "import seaborn as sns; sns.set()\n",
        "fig = plt.figure()\n",
        "label_dict=df['execution__site'].astype('category')\n",
        "label_dict = dict(zip(label_dict.cat.codes,label_dict))\n",
        "ax = fig.add_subplot(111)\n",
        "scatter = ax.scatter(X.iloc[:, 0], X.iloc[:, 1], c=y_kmodes, s=50, cmap='viridis')\n",
        "# ax.set_yticks(label_dict.keys())\n",
        "# ax.set_yticklabels(label_dict.values())\n",
        "ax.set_xlabel('job__type')\n",
        "ax.set_ylabel('execution__site')\n",
        "print(label_dict)\n",
        "#plotting the clustering result \n",
        "#plt.scatter(centroids[:, 0], centroids[:, 1], c='green', s=200, alpha=0.5);"
      ],
      "execution_count": 66,
      "outputs": [
        {
          "output_type": "stream",
          "text": [
            "{3: 'local', 1: 'condor_pool', 2: 'condorpool', 0: 'CCG'}\n"
          ],
          "name": "stdout"
        },
        {
          "output_type": "display_data",
          "data": {
            "image/png": "[encoded data removed]",
            "text/plain": [
              "<Figure size 432x288 with 1 Axes>"
            ]
          },
          "metadata": {
            "tags": []
          }
        }
      ]
    },
    {
      "cell_type": "code",
      "metadata": {
        "id": "bOm0ZA5ZVPq6",
        "colab_type": "code",
        "outputId": "f19eb238-8d46-49b4-be67-c18cdca24936",
        "colab": {
          "base_uri": "https://localhost:8080/",
          "height": 308
        }
      },
      "source": [
        "plt.scatter(X.iloc[:, 0], X.iloc[:, 5], c=y_kmodes, s=50, cmap='viridis')\n",
        "plt.ylabel('job__exitcode')\n",
        "plt.xlabel('job__type')"
      ],
      "execution_count": 0,
      "outputs": [
        {
          "output_type": "execute_result",
          "data": {
            "text/plain": [
              "Text(0.5, 0, 'job__type')"
            ]
          },
          "metadata": {
            "tags": []
          },
          "execution_count": 20
        },
        {
          "output_type": "display_data",
          "data": {
            "image/png": "[encoded data removed]",
            "text/plain": [
              "<Figure size 432x288 with 1 Axes>"
            ]
          },
          "metadata": {
            "tags": []
          }
        }
      ]
    },
    {
      "cell_type": "code",
      "metadata": {
        "id": "LBZQDhk_qW_L",
        "colab_type": "code",
        "outputId": "2e6b5f4d-5649-45a2-a8db-31695fbf4181",
        "colab": {
          "base_uri": "https://localhost:8080/",
          "height": 150
        }
      },
      "source": [
        "checksum_centroids = {0:0,1:0,2:0}\n",
        "\n",
        "df1 = df[['checksum__failure']]\n",
        "print(df1.iloc[0,0])\n",
        "for i in range(len(df)):\n",
        "  \n",
        "  if df1.iloc[i,0] == 1:\n",
        "    checksum_centroids[labels[i]] += 1\n",
        "                     \n",
        "  \n",
        "print(checksum_centroids)  \n",
        "total_elements = []\n",
        "for i in range(3):\n",
        "  checksum_centroids[i] = checksum_centroids[i]\n",
        "  total_elements.append(sum(labels==i))\n",
        "  \n",
        "for i in range(3):\n",
        "  print(\"total events in cluster \"+str(i),total_elements[i])\n",
        "  print(\"total checksum failure events in the cluster \"+str(i),checksum_centroids[i])\n"
      ],
      "execution_count": 67,
      "outputs": [
        {
          "output_type": "stream",
          "text": [
            "0\n",
            "{0: 0, 1: 0, 2: 116}\n",
            "total events in cluster 0 5870\n",
            "total checksum failure events in the cluster 0 0\n",
            "total events in cluster 1 2790\n",
            "total checksum failure events in the cluster 1 0\n",
            "total events in cluster 2 6898\n",
            "total checksum failure events in the cluster 2 116\n"
          ],
          "name": "stdout"
        }
      ]
    }
  ]
}